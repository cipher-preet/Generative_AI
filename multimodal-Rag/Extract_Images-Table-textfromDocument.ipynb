{
 "cells": [
  {
   "cell_type": "code",
   "execution_count": 3,
   "id": "4d563484",
   "metadata": {},
   "outputs": [],
   "source": [
    "# %pip install \"unstructured[all-docs]\" pillow pydantic lxml matplotlib"
   ]
  },
  {
   "cell_type": "code",
   "execution_count": 4,
   "id": "e1b487bd",
   "metadata": {},
   "outputs": [],
   "source": [
    "# %pip install poppler-utils"
   ]
  },
  {
   "cell_type": "code",
   "execution_count": 5,
   "id": "58bc7655",
   "metadata": {},
   "outputs": [],
   "source": [
    "# %pip install libleptonica-dev tesseract-dev libtesseract-dev python3-pil tesseract-ocr-eng tesseract-ocr-script-latn   # ----------->>>> System level Packages"
   ]
  },
  {
   "cell_type": "code",
   "execution_count": 10,
   "id": "83a60842",
   "metadata": {},
   "outputs": [],
   "source": [
    "# %pip install pytesseract pillow\n"
   ]
  },
  {
   "cell_type": "code",
   "execution_count": 13,
   "id": "273f5f58",
   "metadata": {},
   "outputs": [],
   "source": [
    "# %pip install unstructured-pytesseract\n",
    "# %pip install tesseract-ocr"
   ]
  },
  {
   "cell_type": "code",
   "execution_count": 17,
   "id": "7118c3eb",
   "metadata": {},
   "outputs": [
    {
     "name": "stdout",
     "output_type": "stream",
     "text": [
      "('64bit', 'WindowsPE')\n"
     ]
    }
   ],
   "source": [
    "import platform\n",
    "print(platform.architecture())\n",
    "\n"
   ]
  },
  {
   "cell_type": "code",
   "execution_count": 3,
   "id": "94cc6a61",
   "metadata": {},
   "outputs": [],
   "source": [
    "# from unstructured.partition.pdf import partition_pdf\n",
    "# from unstructured.staging.base import elements_to_json\n",
    "\n",
    "# file_path = \"<path/to>\"\n",
    "# base_file_name = \"layout-parser-paper\"\n",
    "\n",
    "# def main():\n",
    "#     elements = partition_pdf(filename=f\"{file_path}/{base_file_name}.pdf\")\n",
    "#     elements_to_json(elements=elements, filename=f\"{file_path}/{base_file_name}-output.json\")\n",
    "\n",
    "# if __name__ == \"__main__\":\n",
    "#     main()"
   ]
  },
  {
   "cell_type": "code",
   "execution_count": 1,
   "id": "85353fb6",
   "metadata": {},
   "outputs": [
    {
     "name": "stdout",
     "output_type": "stream",
     "text": [
      "^C\n",
      "Note: you may need to restart the kernel to use updated packages.\n",
      "Requirement already satisfied: onnxruntime in c:\\users\\preet\\onedrive\\desktop\\genrative-ai\\multimodeel_rag\\env\\lib\\site-packages (1.22.0)\n",
      "Requirement already satisfied: coloredlogs in c:\\users\\preet\\onedrive\\desktop\\genrative-ai\\multimodeel_rag\\env\\lib\\site-packages (from onnxruntime) (15.0.1)\n",
      "Requirement already satisfied: flatbuffers in c:\\users\\preet\\onedrive\\desktop\\genrative-ai\\multimodeel_rag\\env\\lib\\site-packages (from onnxruntime) (25.2.10)\n",
      "Requirement already satisfied: numpy>=1.21.6 in c:\\users\\preet\\onedrive\\desktop\\genrative-ai\\multimodeel_rag\\env\\lib\\site-packages (from onnxruntime) (2.3.1)\n",
      "Requirement already satisfied: packaging in c:\\users\\preet\\onedrive\\desktop\\genrative-ai\\multimodeel_rag\\env\\lib\\site-packages (from onnxruntime) (25.0)\n",
      "Requirement already satisfied: protobuf in c:\\users\\preet\\onedrive\\desktop\\genrative-ai\\multimodeel_rag\\env\\lib\\site-packages (from onnxruntime) (6.31.1)\n",
      "Requirement already satisfied: sympy in c:\\users\\preet\\onedrive\\desktop\\genrative-ai\\multimodeel_rag\\env\\lib\\site-packages (from onnxruntime) (1.14.0)\n",
      "Requirement already satisfied: humanfriendly>=9.1 in c:\\users\\preet\\onedrive\\desktop\\genrative-ai\\multimodeel_rag\\env\\lib\\site-packages (from coloredlogs->onnxruntime) (10.0)\n",
      "Requirement already satisfied: mpmath<1.4,>=1.1.0 in c:\\users\\preet\\onedrive\\desktop\\genrative-ai\\multimodeel_rag\\env\\lib\\site-packages (from sympy->onnxruntime) (1.3.0)\n",
      "Requirement already satisfied: pyreadline3 in c:\\users\\preet\\onedrive\\desktop\\genrative-ai\\multimodeel_rag\\env\\lib\\site-packages (from humanfriendly>=9.1->coloredlogs->onnxruntime) (3.5.4)\n",
      "Note: you may need to restart the kernel to use updated packages.\n"
     ]
    },
    {
     "name": "stderr",
     "output_type": "stream",
     "text": [
      "\n",
      "[notice] A new release of pip is available: 24.0 -> 25.1.1\n",
      "[notice] To update, run: python.exe -m pip install --upgrade pip\n"
     ]
    }
   ],
   "source": [
    "# %pip uninstall onnxruntime onnxruntime-tools onnx\n",
    "# %pip install onnxruntime\n"
   ]
  },
  {
   "cell_type": "code",
   "execution_count": null,
   "id": "629c5a6d",
   "metadata": {},
   "outputs": [],
   "source": []
  }
 ],
 "metadata": {
  "kernelspec": {
   "display_name": "env",
   "language": "python",
   "name": "python3"
  },
  "language_info": {
   "codemirror_mode": {
    "name": "ipython",
    "version": 3
   },
   "file_extension": ".py",
   "mimetype": "text/x-python",
   "name": "python",
   "nbconvert_exporter": "python",
   "pygments_lexer": "ipython3",
   "version": "3.12.4"
  }
 },
 "nbformat": 4,
 "nbformat_minor": 5
}
