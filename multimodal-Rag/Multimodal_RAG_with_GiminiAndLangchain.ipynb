{
 "cells": [
  {
   "cell_type": "code",
   "execution_count": 1,
   "id": "41ddc1c3",
   "metadata": {},
   "outputs": [],
   "source": [
    "# %pip install langchain langchain-google-genai \"langchain[docarray]\" faiss-cpu pypdf\n",
    "\n",
    "# %pip install langchain-community"
   ]
  },
  {
   "cell_type": "code",
   "execution_count": 2,
   "id": "9ae46739",
   "metadata": {},
   "outputs": [],
   "source": [
    "import os\n",
    "import requests\n",
    "from PIL import Image"
   ]
  },
  {
   "cell_type": "code",
   "execution_count": 3,
   "id": "9847fde5",
   "metadata": {},
   "outputs": [],
   "source": [
    "\n",
    "import matplotlib.pyplot as plt\n",
    "import matplotlib.image as mpimg\n",
    "from IPython.display import display, Markdown"
   ]
  },
  {
   "cell_type": "code",
   "execution_count": 4,
   "id": "5b642627",
   "metadata": {},
   "outputs": [],
   "source": [
    "from langchain_google_genai import ChatGoogleGenerativeAI\n",
    "from langchain_core.messages import HumanMessage, SystemMessage\n",
    "from langchain.vectorstores import DocArrayInMemorySearch\n",
    "from langchain_google_genai import GoogleGenerativeAIEmbeddings\n",
    "from langchain_core.output_parsers import StrOutputParser\n",
    "from langchain_core.prompts import ChatPromptTemplate\n",
    "from langchain.schema.document import Document\n",
    "from langchain_community.document_loaders import TextLoader\n",
    "from langchain_text_splitters import CharacterTextSplitter\n",
    "from langchain_community.vectorstores import FAISS\n",
    "\n"
   ]
  },
  {
   "cell_type": "code",
   "execution_count": 5,
   "id": "450b2b7c",
   "metadata": {},
   "outputs": [
    {
     "data": {
      "text/plain": [
       "True"
      ]
     },
     "execution_count": 5,
     "metadata": {},
     "output_type": "execute_result"
    }
   ],
   "source": [
    "from dotenv import load_dotenv\n",
    "load_dotenv()"
   ]
  },
  {
   "cell_type": "code",
   "execution_count": 6,
   "id": "f0a1b0f0",
   "metadata": {},
   "outputs": [],
   "source": [
    "def load_model(model_name):\n",
    "  if model_name==\"gemini-pro\":\n",
    "    llm = ChatGoogleGenerativeAI(model=\"gemini-pro\")\n",
    "  else:\n",
    "    llm=ChatGoogleGenerativeAI(model=\"gemini-1.5-flash\")\n",
    "\n",
    "  return llm\n"
   ]
  },
  {
   "cell_type": "code",
   "execution_count": 7,
   "id": "255a63cd",
   "metadata": {},
   "outputs": [],
   "source": [
    "model_text=load_model(\"gemini-1.5-flash\")\n"
   ]
  },
  {
   "cell_type": "code",
   "execution_count": 8,
   "id": "f7c84f83",
   "metadata": {},
   "outputs": [
    {
     "data": {
      "text/plain": [
       "\"I've got a million of 'em... but I'm too lazy to count that high.\""
      ]
     },
     "execution_count": 8,
     "metadata": {},
     "output_type": "execute_result"
    }
   ],
   "source": [
    "model_text.invoke(\"please come up with contentthe best funny line.\").content"
   ]
  },
  {
   "cell_type": "code",
   "execution_count": 9,
   "id": "599773da",
   "metadata": {},
   "outputs": [],
   "source": [
    "import base64\n",
    "\n",
    "\n",
    "def get_image(url,filename,extension):\n",
    "  content = requests.get(url).content\n",
    "  encoded = base64.b64encode(content).decode(\"utf-8\")\n",
    "\n",
    "  with open(f'../Multimodeel_RAG/content/{filename}.{extension}', 'wb') as f:\n",
    "    f.write(content)\n",
    "  image = Image.open(f\"../Multimodeel_RAG/content/{filename}.{extension}\")\n",
    "  image.show()\n",
    "  return f\"data:image/jpeg;base64,{encoded}\""
   ]
  },
  {
   "cell_type": "code",
   "execution_count": 10,
   "id": "dad51699",
   "metadata": {},
   "outputs": [],
   "source": [
    "\n",
    "image = get_image(\"https://images.pexels.com/photos/292999/pexels-photo-292999.jpeg?cs=srgb&dl=pexels-goumbik-292999.jpg&fm=jpg\",\n",
    "                  \"nike-shoes\",\n",
    "                  \"png\")\n"
   ]
  },
  {
   "cell_type": "code",
   "execution_count": 12,
   "id": "08f41614",
   "metadata": {},
   "outputs": [],
   "source": [
    "\n",
    "# plt.imshow(image)\n",
    "# plt.show()"
   ]
  },
  {
   "cell_type": "code",
   "execution_count": 13,
   "id": "e189e564",
   "metadata": {},
   "outputs": [],
   "source": [
    "vision_model=load_model(\"gemini-1.5-flash\")\n"
   ]
  },
  {
   "cell_type": "code",
   "execution_count": 14,
   "id": "877ad455",
   "metadata": {},
   "outputs": [],
   "source": [
    "prompt=\"give me summary of this image in 5 words\"\n"
   ]
  },
  {
   "cell_type": "code",
   "execution_count": 15,
   "id": "175c3a5b",
   "metadata": {},
   "outputs": [],
   "source": [
    "\n",
    "message= HumanMessage(\n",
    "    content=[\n",
    "         {\n",
    "            \"type\": \"text\",\n",
    "            \"text\": prompt,\n",
    "        },\n",
    "        {\n",
    "\n",
    "            \"type\": \"image_url\", \"image_url\": image\n",
    "        }\n",
    "    ]\n",
    ")"
   ]
  },
  {
   "cell_type": "code",
   "execution_count": 17,
   "id": "017bfc3f",
   "metadata": {},
   "outputs": [
    {
     "name": "stdout",
     "output_type": "stream",
     "text": [
      "Black leather dress shoes, formal.\n"
     ]
    }
   ],
   "source": [
    "print(vision_model.invoke([message]).content)\n"
   ]
  },
  {
   "cell_type": "code",
   "execution_count": 18,
   "id": "86626a59",
   "metadata": {},
   "outputs": [
    {
     "name": "stdout",
     "output_type": "stream",
     "text": [
      "Nike Air Max Plus sneakers. They feature a brown upper with a black Nike Swoosh logo on the side and a visible Air Max unit in the heel. The sole is white.\n",
      "Here are some more details about the Nike Air Max Plus:\n",
      "Style: TN\n",
      "Release date: January 1, 2017\n",
      "Style code: 852630-300\n",
      "Original retail price: $150 USD\n",
      "The Air Max Plus, also known as the TN, is a popular Nike running shoe that was first released in 1998. It is known for its unique design, which includes a gradient upper, visible Air Max units, and a wavy outsole. The TN has been a popular shoe among sneakerheads and casual wearers alike for over two decades.\n",
      "It features a brown upper with a black Swoosh logo and a white sole. The shoe is currently available for resale on the StockX marketplace for an average price of around $150 USD.\n",
      "Nike Air Max Plus Store Location: \"Kings Way, Kathmandu, Nepal\".\n",
      "\\n\\n\\n\n",
      "\n",
      "\n",
      "\n",
      "Nike Dunk Low Retro sneakers.\n",
      "Here are some more details about the Nike Dunk Low Retro:\n",
      "Style: Low-top\n",
      "Release date: October 31, 2020\n",
      "Style code: DD1391-100\n",
      "Original retail price: $100 USD\n",
      "The Dunk Low Retro is a popular Nike skateboarding shoe that was first released in 1985. It is a classic silhouette that has been released in a wide variety of colors and materials over the years.\n",
      "The shoes in the image are currently available for resale on the StockX marketplace for an average price of around $200 USD.\n",
      "Nike Dunk Low Retro sneakers Store Location: \"Patan, Lalitpur, Nepal\".\n",
      "\\n\\n\\n\n",
      "\n",
      "\n",
      "\n",
      "\n",
      "Nike slide/sandal.\n",
      "They appear to be the Nike Slide/Sandal, which is a unisex slide/sandal.\n",
      "Here are some of the features:\n",
      "Soft, one-piece upper: The upper is made of a soft, synthetic material that provides comfort and support.\n",
      "Phylon midsole: The midsole is made of Phylon, which provides cushioning and support.\n",
      "Rubber outsole: The outsole is made of rubber for traction and durability.\n",
      "Swoosh logo: The Nike Swoosh logo is on the strap of the sandal.\n",
      "Available in a variety of colors: The Nike Benassi Solarsoft Sandal is available in a variety of colors, including black, white, and beige.\n",
      "Nike off courte slides store location: \"Bhaktapur, Nepal\".\n"
     ]
    }
   ],
   "source": [
    "loader = TextLoader(\"../Multimodeel_RAG/content/nike_shoes.txt\")\n",
    "print(loader.load()[0].page_content)"
   ]
  },
  {
   "cell_type": "code",
   "execution_count": 30,
   "id": "e5bcdffd",
   "metadata": {},
   "outputs": [],
   "source": [
    "from langchain_core.runnables import RunnableLambda, RunnablePassthrough\n"
   ]
  },
  {
   "cell_type": "code",
   "execution_count": 31,
   "id": "372386d4",
   "metadata": {},
   "outputs": [],
   "source": [
    "text=loader.load()[0].page_content\n"
   ]
  },
  {
   "cell_type": "code",
   "execution_count": 32,
   "id": "3d25292e",
   "metadata": {},
   "outputs": [],
   "source": [
    "\n",
    "def get_text_chunks_langchain(text):\n",
    "  text_splitter = CharacterTextSplitter(chunk_size=20, chunk_overlap=10)\n",
    "  docs = [Document(page_content=x) for x in text_splitter.split_text(text)]\n",
    "  return docs\n",
    "     "
   ]
  },
  {
   "cell_type": "code",
   "execution_count": 33,
   "id": "cfd807b4",
   "metadata": {},
   "outputs": [
    {
     "name": "stderr",
     "output_type": "stream",
     "text": [
      "Created a chunk of size 869, which is longer than the specified 20\n",
      "Created a chunk of size 588, which is longer than the specified 20\n"
     ]
    }
   ],
   "source": [
    "docs = get_text_chunks_langchain(text)"
   ]
  },
  {
   "cell_type": "code",
   "execution_count": 34,
   "id": "4583de2e",
   "metadata": {},
   "outputs": [],
   "source": [
    "embeddings = GoogleGenerativeAIEmbeddings(model=\"models/embedding-001\")"
   ]
  },
  {
   "cell_type": "code",
   "execution_count": 35,
   "id": "370637d9",
   "metadata": {},
   "outputs": [],
   "source": [
    "vectorstore = FAISS.from_documents(docs,embedding=embeddings)\n"
   ]
  },
  {
   "cell_type": "code",
   "execution_count": 36,
   "id": "73ab0e77",
   "metadata": {},
   "outputs": [],
   "source": [
    "retriever=vectorstore.as_retriever()\n"
   ]
  },
  {
   "cell_type": "code",
   "execution_count": 37,
   "id": "c5205456",
   "metadata": {},
   "outputs": [
    {
     "data": {
      "text/plain": [
       "[Document(id='504b5c9f-5dfc-40e4-ad11-36351723c8cc', metadata={}, page_content='Nike slide/sandal.\\nThey appear to be the Nike Slide/Sandal, which is a unisex slide/sandal.\\nHere are some of the features:\\nSoft, one-piece upper: The upper is made of a soft, synthetic material that provides comfort and support.\\nPhylon midsole: The midsole is made of Phylon, which provides cushioning and support.\\nRubber outsole: The outsole is made of rubber for traction and durability.\\nSwoosh logo: The Nike Swoosh logo is on the strap of the sandal.\\nAvailable in a variety of colors: The Nike Benassi Solarsoft Sandal is available in a variety of colors, including black, white, and beige.\\nNike off courte slides store location: \"Bhaktapur, Nepal\".'),\n",
       " Document(id='8671f9b4-2a4f-4b68-b51c-2f68bbcc5e6b', metadata={}, page_content='Nike Air Max Plus sneakers. They feature a brown upper with a black Nike Swoosh logo on the side and a visible Air Max unit in the heel. The sole is white.\\nHere are some more details about the Nike Air Max Plus:\\nStyle: TN\\nRelease date: January 1, 2017\\nStyle code: 852630-300\\nOriginal retail price: $150 USD\\nThe Air Max Plus, also known as the TN, is a popular Nike running shoe that was first released in 1998. It is known for its unique design, which includes a gradient upper, visible Air Max units, and a wavy outsole. The TN has been a popular shoe among sneakerheads and casual wearers alike for over two decades.\\nIt features a brown upper with a black Swoosh logo and a white sole. The shoe is currently available for resale on the StockX marketplace for an average price of around $150 USD.\\nNike Air Max Plus Store Location: \"Kings Way, Kathmandu, Nepal\".\\n\\\\n\\\\n\\\\n'),\n",
       " Document(id='5d3a0215-6b72-459f-8e44-7e75d9999fa3', metadata={}, page_content='Nike Dunk Low Retro sneakers.\\nHere are some more details about the Nike Dunk Low Retro:\\nStyle: Low-top\\nRelease date: October 31, 2020\\nStyle code: DD1391-100\\nOriginal retail price: $100 USD\\nThe Dunk Low Retro is a popular Nike skateboarding shoe that was first released in 1985. It is a classic silhouette that has been released in a wide variety of colors and materials over the years.\\nThe shoes in the image are currently available for resale on the StockX marketplace for an average price of around $200 USD.\\nNike Dunk Low Retro sneakers Store Location: \"Patan, Lalitpur, Nepal\".\\n\\\\n\\\\n\\\\n')]"
      ]
     },
     "execution_count": 37,
     "metadata": {},
     "output_type": "execute_result"
    }
   ],
   "source": [
    "retriever.invoke(\"Nike slide/sandal.\")"
   ]
  },
  {
   "cell_type": "code",
   "execution_count": 38,
   "id": "98c2e032",
   "metadata": {},
   "outputs": [],
   "source": [
    "llm_vision = load_model(\"gemini-1.5-flash\")\n"
   ]
  },
  {
   "cell_type": "code",
   "execution_count": 39,
   "id": "b4c8ac33",
   "metadata": {},
   "outputs": [],
   "source": [
    "\n",
    "template = \"\"\"\n",
    "```\n",
    "{context}\n",
    "```\n",
    "\n",
    "{query}\n",
    "\n",
    "\n",
    "Provide brief information and store location.\n",
    "\"\"\""
   ]
  },
  {
   "cell_type": "code",
   "execution_count": 41,
   "id": "93a1417c",
   "metadata": {},
   "outputs": [],
   "source": [
    "prompt = ChatPromptTemplate.from_template(template)\n"
   ]
  },
  {
   "cell_type": "code",
   "execution_count": 43,
   "id": "e44471e4",
   "metadata": {},
   "outputs": [],
   "source": [
    "rag_chain = (\n",
    "    {\"context\": retriever, \"query\": RunnablePassthrough()}\n",
    "    | prompt\n",
    "    | llm_vision\n",
    "    | StrOutputParser()\n",
    ")"
   ]
  },
  {
   "cell_type": "code",
   "execution_count": 44,
   "id": "90debc67",
   "metadata": {},
   "outputs": [],
   "source": [
    "result = rag_chain.invoke(\"can you give me a detail of nike sandal?\")\n"
   ]
  },
  {
   "cell_type": "code",
   "execution_count": 45,
   "id": "44273d33",
   "metadata": {},
   "outputs": [
    {
     "data": {
      "text/markdown": [
       "Nike Slide/Sandal: A unisex slide/sandal with a soft, one-piece synthetic upper, Phylon midsole, rubber outsole, and Nike Swoosh logo.  Available in various colors.\n",
       "\n",
       "Store Location: Bhaktapur, Nepal"
      ],
      "text/plain": [
       "<IPython.core.display.Markdown object>"
      ]
     },
     "metadata": {},
     "output_type": "display_data"
    }
   ],
   "source": [
    "display(Markdown(result))\n"
   ]
  },
  {
   "cell_type": "code",
   "execution_count": 46,
   "id": "dc8cc90f",
   "metadata": {},
   "outputs": [
    {
     "data": {
      "text/plain": [
       "{\n",
       "  context: VectorStoreRetriever(tags=['FAISS', 'GoogleGenerativeAIEmbeddings'], vectorstore=<langchain_community.vectorstores.faiss.FAISS object at 0x000002411B94CE90>, search_kwargs={}),\n",
       "  query: RunnablePassthrough()\n",
       "}\n",
       "| ChatPromptTemplate(input_variables=['context', 'query'], input_types={}, partial_variables={}, messages=[HumanMessagePromptTemplate(prompt=PromptTemplate(input_variables=['context', 'query'], input_types={}, partial_variables={}, template='\\n```\\n{context}\\n```\\n\\n{query}\\n\\n\\nProvide brief information and store location.\\n'), additional_kwargs={})])\n",
       "| ChatGoogleGenerativeAI(model='models/gemini-1.5-flash', google_api_key=SecretStr('**********'), client=<google.ai.generativelanguage_v1beta.services.generative_service.client.GenerativeServiceClient object at 0x000002411B94F890>, default_metadata=(), model_kwargs={})\n",
       "| StrOutputParser()"
      ]
     },
     "execution_count": 46,
     "metadata": {},
     "output_type": "execute_result"
    }
   ],
   "source": [
    "rag_chain\n"
   ]
  },
  {
   "cell_type": "code",
   "execution_count": 47,
   "id": "677678c6",
   "metadata": {},
   "outputs": [],
   "source": [
    "full_chain = (\n",
    "    RunnablePassthrough() | llm_vision | StrOutputParser() | rag_chain\n",
    ")"
   ]
  },
  {
   "cell_type": "code",
   "execution_count": 48,
   "id": "48c618d6",
   "metadata": {},
   "outputs": [],
   "source": [
    "url_1 = \"https://static.nike.com/a/images/t_PDP_1728_v1/f_auto,q_auto:eco/252f2db6-d426-4931-80a0-8b7f8f875536/calm-slides-K7mr3W.png\"\n"
   ]
  },
  {
   "cell_type": "code",
   "execution_count": 49,
   "id": "b767f2a2",
   "metadata": {},
   "outputs": [],
   "source": [
    "image = get_image(url_1, \"nike3\", \"png\")"
   ]
  },
  {
   "cell_type": "code",
   "execution_count": 50,
   "id": "cc51d352",
   "metadata": {},
   "outputs": [],
   "source": [
    "\n",
    "message = HumanMessage(\n",
    "    content=[\n",
    "        {\n",
    "            \"type\": \"text\",\n",
    "            \"text\": \"Provide information on given sandle image Brand and model.\",\n",
    "        },  # You can optionally provide text parts\n",
    "        {\"type\": \"image_url\", \"image_url\": image},\n",
    "    ]\n",
    ")"
   ]
  },
  {
   "cell_type": "code",
   "execution_count": 51,
   "id": "af9bb297",
   "metadata": {},
   "outputs": [],
   "source": [
    "result = full_chain.invoke([message])\n"
   ]
  },
  {
   "cell_type": "code",
   "execution_count": 52,
   "id": "b9392c82",
   "metadata": {},
   "outputs": [
    {
     "data": {
      "text/markdown": [
       "The provided text describes Nike Benassi Solarsoft Slides (it mentions \"Nike Slide/Sandal\" and \"Nike Benassi Solarsoft Sandal\" which are likely the same product),  a unisex slide with a soft upper, Phylon midsole, and rubber outsole.  They are available in various colors.  A store location in Bhaktapur, Nepal is mentioned."
      ],
      "text/plain": [
       "<IPython.core.display.Markdown object>"
      ]
     },
     "metadata": {},
     "output_type": "display_data"
    }
   ],
   "source": [
    "display(Markdown(result))\n"
   ]
  },
  {
   "cell_type": "code",
   "execution_count": null,
   "id": "8099e69a",
   "metadata": {},
   "outputs": [],
   "source": []
  }
 ],
 "metadata": {
  "kernelspec": {
   "display_name": "env",
   "language": "python",
   "name": "python3"
  },
  "language_info": {
   "codemirror_mode": {
    "name": "ipython",
    "version": 3
   },
   "file_extension": ".py",
   "mimetype": "text/x-python",
   "name": "python",
   "nbconvert_exporter": "python",
   "pygments_lexer": "ipython3",
   "version": "3.12.4"
  }
 },
 "nbformat": 4,
 "nbformat_minor": 5
}
