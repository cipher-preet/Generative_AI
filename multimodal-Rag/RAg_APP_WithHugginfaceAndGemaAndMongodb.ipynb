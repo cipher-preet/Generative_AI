{
 "cells": [
  {
   "cell_type": "code",
   "execution_count": 2,
   "id": "06d20187",
   "metadata": {},
   "outputs": [],
   "source": [
    "# %pip install datasets pandas pymongo sentence_transforemers"
   ]
  },
  {
   "cell_type": "code",
   "execution_count": 3,
   "id": "1e1f0f04",
   "metadata": {},
   "outputs": [],
   "source": [
    "# %pip install -U transformers accelerate"
   ]
  },
  {
   "cell_type": "code",
   "execution_count": 8,
   "id": "868083cb",
   "metadata": {},
   "outputs": [],
   "source": [
    "# %pip install datasets"
   ]
  },
  {
   "cell_type": "code",
   "execution_count": 9,
   "id": "ef6675c7",
   "metadata": {},
   "outputs": [
    {
     "name": "stderr",
     "output_type": "stream",
     "text": [
      "c:\\Users\\PREET\\OneDrive\\Desktop\\GENRATIVE-AI\\Multimodeel_RAG\\env\\Lib\\site-packages\\tqdm\\auto.py:21: TqdmWarning: IProgress not found. Please update jupyter and ipywidgets. See https://ipywidgets.readthedocs.io/en/stable/user_install.html\n",
      "  from .autonotebook import tqdm as notebook_tqdm\n"
     ]
    }
   ],
   "source": [
    "from datasets import load_dataset"
   ]
  },
  {
   "cell_type": "code",
   "execution_count": 10,
   "id": "26898b55",
   "metadata": {},
   "outputs": [],
   "source": [
    "import pandas as pd"
   ]
  },
  {
   "cell_type": "code",
   "execution_count": null,
   "id": "f906713a",
   "metadata": {},
   "outputs": [],
   "source": [
    "# datasets = load_dataset(\"MongoDB/embedded_movies\")"
   ]
  },
  {
   "cell_type": "code",
   "execution_count": null,
   "id": "953a2726",
   "metadata": {},
   "outputs": [],
   "source": [
    "data = pd.DataFrame(datasets['train'])\n",
    "\n",
    "data.coloumns\n",
    "data.isnull().sum().sum\n",
    "data = data.dropna(subject=[\"fullplot\"])"
   ]
  },
  {
   "cell_type": "code",
   "execution_count": null,
   "id": "4d1ac29f",
   "metadata": {},
   "outputs": [],
   "source": [
    "from sentence_transformers import SentenceTransformer\n",
    "     = SentenceTransformer(\"thenlper/gte-large\")"
   ]
  },
  {
   "cell_type": "code",
   "execution_count": null,
   "id": "fac207b7",
   "metadata": {},
   "outputs": [],
   "source": [
    "def get_embedding(text:str)->List[float]:\n",
    "    if not text.strip():\n",
    "        print(\"attempted to get embedding for empty text\")\n",
    "        return []\n",
    "\n",
    "    embedding=embedding_model.encode(text)\n",
    "    return embedding.tolist()"
   ]
  },
  {
   "cell_type": "code",
   "execution_count": null,
   "id": "275251cf",
   "metadata": {},
   "outputs": [],
   "source": [
    "data[\"embedding\"]=data[\"fullplot\"].apply(get_embedding)"
   ]
  },
  {
   "cell_type": "code",
   "execution_count": null,
   "id": "bd5f30e0",
   "metadata": {},
   "outputs": [],
   "source": [
    "# <<----------- MONGO DB CONNECTION CODE ---------->>\n",
    "\n",
    "# async function main(){\n",
    "#     /**\n",
    "#      * Connection URI. Update <username>, <password>, and <your-cluster-url> to reflect your cluster.\n",
    "#      * See https://docs.mongodb.com/ecosystem/drivers/node/ for more details\n",
    "#      */\n",
    "#     const uri = \"mongodb+srv://<username>:<password>@<your-cluster-url>/test?retryWrites=true&w=majority\";\n",
    " \n",
    "\n",
    "#     const client = new MongoClient(uri);\n",
    " \n",
    "#     try {\n",
    "#         // Connect to the MongoDB cluster\n",
    "#         await client.connect();\n",
    " \n",
    "#         // Make the appropriate DB calls\n",
    "#         await  listDatabases(client);\n",
    " \n",
    "#     } catch (e) {\n",
    "#         console.error(e);\n",
    "#     } finally {\n",
    "#         await client.close();\n",
    "#     }\n",
    "# }\n",
    "\n",
    "# main().catch(console.error);"
   ]
  },
  {
   "cell_type": "code",
   "execution_count": null,
   "id": "b4c95b12",
   "metadata": {},
   "outputs": [],
   "source": [
    "db=client['mongorag']\n",
    "collection=db['mongoragcollection']"
   ]
  },
  {
   "cell_type": "code",
   "execution_count": null,
   "id": "4076b016",
   "metadata": {},
   "outputs": [],
   "source": [
    "document=data.to_dict(\"records\")\n",
    "collection.insert_many(document)"
   ]
  },
  {
   "cell_type": "code",
   "execution_count": null,
   "id": "41df2d5d",
   "metadata": {},
   "outputs": [],
   "source": [
    "# pipeline = [\n",
    "#     {\n",
    "#         \"$vectorSearch\":{\n",
    "#             \"index\":\"vector_index\",\n",
    "#             \"queryVector\":query_embedding,\n",
    "#             \"path\":\"embedding\",\n",
    "#             \"numCandidates\":150,\n",
    "#             \"limit\":4\n",
    "#         }\n",
    "#     },\n",
    "#     {\n",
    "#         \"$project\":{\n",
    "#             \"fullplot\":1,\n",
    "#             \"title\":1,\n",
    "#             \"geners\":1,\n",
    "#             \"score\":{\"$meta\":\"vectorSearchScore\"}\n",
    "#         }\n",
    "#     }\n",
    "# ]"
   ]
  },
  {
   "cell_type": "code",
   "execution_count": null,
   "id": "1a292690",
   "metadata": {},
   "outputs": [],
   "source": [
    "def vector_search(user_query,collection):\n",
    "\n",
    "    query_embedding=get_embedding(user_query)\n",
    "\n",
    "    if(query_embedding is None):\n",
    "        return \"Invalid query\"\n",
    "\n",
    "    pipeline = [\n",
    "    {\n",
    "        \"$vectorSearch\":{\n",
    "            \"index\":\"vector_index\",\n",
    "            \"queryVector\":query_embedding,\n",
    "            \"path\":\"embedding\",\n",
    "            \"numCandidates\":150,\n",
    "            \"limit\":4\n",
    "        }\n",
    "    },\n",
    "    {\n",
    "        \"$project\":{\n",
    "            \"fullplot\":1,\n",
    "            \"title\":1,\n",
    "            \"geners\":1,\n",
    "            \"score\":{\"$meta\":\"vectorSearchScore\"}\n",
    "        }\n",
    "    }\n",
    "]"
   ]
  },
  {
   "cell_type": "code",
   "execution_count": null,
   "id": "4c147154",
   "metadata": {},
   "outputs": [],
   "source": [
    "vector_search(\"best horror movies\",collection)"
   ]
  },
  {
   "cell_type": "code",
   "execution_count": null,
   "id": "bb1c370b",
   "metadata": {},
   "outputs": [],
   "source": [
    "def get_search_result(query, collection):\n",
    "    get_knowledge = vector_search(query, collection)\n",
    "\n",
    "    search_result = \"\"\n",
    "\n",
    "    for result i get_knowledge:\n",
    "        search_result += f\"title: { result.get('title','N/A')}, Plot:{result.get('fullplot','N/A')}\" \n",
    "\n",
    "    return search_result    "
   ]
  },
  {
   "cell_type": "code",
   "execution_count": null,
   "id": "1834e67b",
   "metadata": {},
   "outputs": [],
   "source": [
    "source_information=get_search_result(query, collection)"
   ]
  },
  {
   "cell_type": "code",
   "execution_count": null,
   "id": "9eee060e",
   "metadata": {},
   "outputs": [],
   "source": [
    "combined_information = f\"Query : {query}\\n continue the answer the query using the search result: {source_information}\""
   ]
  },
  {
   "cell_type": "code",
   "execution_count": null,
   "id": "6a728f82",
   "metadata": {},
   "outputs": [],
   "source": [
    "# hugging face logice here"
   ]
  },
  {
   "cell_type": "code",
   "execution_count": null,
   "id": "21464b62",
   "metadata": {},
   "outputs": [],
   "source": []
  },
  {
   "cell_type": "code",
   "execution_count": null,
   "id": "c1950dac",
   "metadata": {},
   "outputs": [],
   "source": []
  },
  {
   "cell_type": "code",
   "execution_count": null,
   "id": "02ed4916",
   "metadata": {},
   "outputs": [],
   "source": []
  },
  {
   "cell_type": "code",
   "execution_count": null,
   "id": "614af944",
   "metadata": {},
   "outputs": [],
   "source": []
  },
  {
   "cell_type": "code",
   "execution_count": null,
   "id": "128a5c2b",
   "metadata": {},
   "outputs": [],
   "source": []
  },
  {
   "cell_type": "code",
   "execution_count": null,
   "id": "a1fef1c4",
   "metadata": {},
   "outputs": [],
   "source": []
  },
  {
   "cell_type": "code",
   "execution_count": null,
   "id": "012f5a02",
   "metadata": {},
   "outputs": [],
   "source": []
  }
 ],
 "metadata": {
  "kernelspec": {
   "display_name": "env",
   "language": "python",
   "name": "python3"
  },
  "language_info": {
   "codemirror_mode": {
    "name": "ipython",
    "version": 3
   },
   "file_extension": ".py",
   "mimetype": "text/x-python",
   "name": "python",
   "nbconvert_exporter": "python",
   "pygments_lexer": "ipython3",
   "version": "3.12.4"
  }
 },
 "nbformat": 4,
 "nbformat_minor": 5
}
