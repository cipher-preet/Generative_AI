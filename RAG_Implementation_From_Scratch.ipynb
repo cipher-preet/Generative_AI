{
 "cells": [
  {
   "cell_type": "code",
   "execution_count": 31,
   "id": "a8c3287e-3fa6-4364-a50c-a5f7780b9afd",
   "metadata": {},
   "outputs": [],
   "source": [
    "corpus_of_documents = [\n",
    "    \"Take a leisurely walk in the park and enjoy the fresh air.\",\n",
    "    \"Visit a local museum and discover something new.\",\n",
    "    \"Attend a live music concert and feel the rhythm.\",\n",
    "    \"Go for a hike and admire the natural scenery.\",\n",
    "    \"Have a picnic with friends and share some laughs.\",\n",
    "    \"Explore a new cuisine by dining at an ethnic restaurant.\",\n",
    "    \"Take a yoga class and stretch your body and mind.\",\n",
    "    \"Join a local sports league and enjoy some friendly competition.\",\n",
    "    \"Attend a workshop or lecture on a topic you're interested in.\",\n",
    "    \"Visit an amusement park and ride the roller coasters.\"\n",
    "]"
   ]
  },
  {
   "cell_type": "code",
   "execution_count": 33,
   "id": "f8cdfb84-cd8e-4c46-8746-8e0b5bb692a7",
   "metadata": {},
   "outputs": [],
   "source": [
    "user_query=\"i am an indian and i live in india\"\n"
   ]
  },
  {
   "cell_type": "code",
   "execution_count": 35,
   "id": "a0bb6989-2758-40b9-9959-96af74a5a62c",
   "metadata": {},
   "outputs": [],
   "source": [
    "document=\"india is a country for the indians and for eveyone\"\n"
   ]
  },
  {
   "cell_type": "code",
   "execution_count": 37,
   "id": "88cbca82-34b8-4eab-a415-37ee97ae6fd5",
   "metadata": {},
   "outputs": [],
   "source": [
    "from collections import Counter\n",
    "import math"
   ]
  },
  {
   "cell_type": "code",
   "execution_count": 39,
   "id": "d5b73632-36d2-4f05-ae7d-5d13ab73d7f5",
   "metadata": {},
   "outputs": [],
   "source": [
    "query_tokens=user_query.lower().split(\" \")\n"
   ]
  },
  {
   "cell_type": "code",
   "execution_count": 41,
   "id": "91e55c30-1714-4d87-88b7-7b0baf6eabec",
   "metadata": {},
   "outputs": [
    {
     "data": {
      "text/plain": [
       "['i', 'am', 'an', 'indian', 'and', 'i', 'live', 'in', 'india']"
      ]
     },
     "execution_count": 41,
     "metadata": {},
     "output_type": "execute_result"
    }
   ],
   "source": [
    "query_tokens\n"
   ]
  },
  {
   "cell_type": "code",
   "execution_count": 48,
   "id": "00faedc5-23fb-4d23-82d5-f6801c25fe20",
   "metadata": {},
   "outputs": [],
   "source": [
    "document_tokens=document.lower().split(\" \")\n"
   ]
  },
  {
   "cell_type": "code",
   "execution_count": 50,
   "id": "53c28def-c245-40c7-af91-72d540dcff38",
   "metadata": {},
   "outputs": [
    {
     "data": {
      "text/plain": [
       "Counter({'i': 2,\n",
       "         'am': 1,\n",
       "         'an': 1,\n",
       "         'indian': 1,\n",
       "         'and': 1,\n",
       "         'live': 1,\n",
       "         'in': 1,\n",
       "         'india': 1})"
      ]
     },
     "execution_count": 50,
     "metadata": {},
     "output_type": "execute_result"
    }
   ],
   "source": [
    "query_counter=Counter(query_tokens)\n",
    "query_counter"
   ]
  },
  {
   "cell_type": "code",
   "execution_count": 52,
   "id": "0a582fb9-365b-4cb9-a3d4-76d2c1b18163",
   "metadata": {},
   "outputs": [
    {
     "data": {
      "text/plain": [
       "Counter({'for': 2,\n",
       "         'india': 1,\n",
       "         'is': 1,\n",
       "         'a': 1,\n",
       "         'country': 1,\n",
       "         'the': 1,\n",
       "         'indians': 1,\n",
       "         'and': 1,\n",
       "         'eveyone': 1})"
      ]
     },
     "execution_count": 52,
     "metadata": {},
     "output_type": "execute_result"
    }
   ],
   "source": [
    "document_counter=Counter(document_tokens)\n",
    "document_counter\n",
    "Counter({'india': 1,\n",
    "         'is': 1,\n",
    "         'a': 1,\n",
    "         'country': 1,\n",
    "         'for': 2,\n",
    "         'the': 1,\n",
    "         'indians': 1,\n",
    "         'and': 1,\n",
    "         'eveyone': 1})\n"
   ]
  },
  {
   "cell_type": "code",
   "execution_count": 54,
   "id": "31247f02-9bd4-4559-beaa-96c303d44cc1",
   "metadata": {},
   "outputs": [],
   "source": [
    "lst=[]\n",
    "for token in query_counter.keys():\n",
    "    lst.append(query_counter[token])\n",
    "user_query=\"i am an indian and i live in india\"\n",
    "document=\"india is a country for the indians and for eveyone\"\n"
   ]
  },
  {
   "cell_type": "code",
   "execution_count": 56,
   "id": "78d360fe-7e3a-4b31-bbc9-758fd2b9263a",
   "metadata": {},
   "outputs": [
    {
     "data": {
      "text/plain": [
       "[2, 1, 1, 1, 1, 1, 1, 1]"
      ]
     },
     "execution_count": 56,
     "metadata": {},
     "output_type": "execute_result"
    }
   ],
   "source": [
    "#sentance vector\n",
    "lst"
   ]
  },
  {
   "cell_type": "code",
   "execution_count": 58,
   "id": "bd4dc751-c102-46f4-a111-353ff3f8bc6e",
   "metadata": {},
   "outputs": [
    {
     "name": "stdout",
     "output_type": "stream",
     "text": [
      "india\n",
      "and\n"
     ]
    }
   ],
   "source": [
    "for tokens in query_counter.keys() & document_counter.keys():\n",
    "    print(tokens)"
   ]
  },
  {
   "cell_type": "code",
   "execution_count": 60,
   "id": "dab18657-b104-4db6-9720-464e7f46167f",
   "metadata": {},
   "outputs": [],
   "source": [
    "mylist=[]\n",
    "for tokens in query_counter.keys() & document_counter.keys():\n",
    "    mylist.append(query_counter[tokens]*document_counter[tokens])"
   ]
  },
  {
   "cell_type": "code",
   "execution_count": 62,
   "id": "0d57698d-ab8b-4d68-b757-fc8a89c5aea3",
   "metadata": {},
   "outputs": [
    {
     "data": {
      "text/plain": [
       "[1, 1]"
      ]
     },
     "execution_count": 62,
     "metadata": {},
     "output_type": "execute_result"
    }
   ],
   "source": [
    "mylist\n"
   ]
  },
  {
   "cell_type": "code",
   "execution_count": 64,
   "id": "9e2aeade-3a0b-4c4a-a40b-98cdfb2d3ef7",
   "metadata": {},
   "outputs": [],
   "source": [
    "dot_prod=sum(mylist)\n"
   ]
  },
  {
   "cell_type": "code",
   "execution_count": 66,
   "id": "4cad5a50-e9a7-4ef5-8377-b2f140b2b70b",
   "metadata": {},
   "outputs": [],
   "source": [
    "query_magnitude = math.sqrt(sum(query_counter[token] ** 2 for token in query_counter))\n"
   ]
  },
  {
   "cell_type": "code",
   "execution_count": 68,
   "id": "549f170b-f78e-4bd1-8310-58713f33bf4b",
   "metadata": {},
   "outputs": [
    {
     "data": {
      "text/plain": [
       "3.3166247903554"
      ]
     },
     "execution_count": 68,
     "metadata": {},
     "output_type": "execute_result"
    }
   ],
   "source": [
    "query_magnitude\n"
   ]
  },
  {
   "cell_type": "code",
   "execution_count": 70,
   "id": "e9f59d56-ee8c-4c07-82d6-995ccbd7ebb8",
   "metadata": {},
   "outputs": [],
   "source": [
    "document_magnitude = math.sqrt(sum(document_counter[token] ** 2 for token in document_counter))\n"
   ]
  },
  {
   "cell_type": "code",
   "execution_count": 72,
   "id": "1a5d89d4-6ae2-4f97-b3d2-bc644aceafc0",
   "metadata": {},
   "outputs": [
    {
     "data": {
      "text/plain": [
       "3.4641016151377544"
      ]
     },
     "execution_count": 72,
     "metadata": {},
     "output_type": "execute_result"
    }
   ],
   "source": [
    "document_magnitude\n"
   ]
  },
  {
   "cell_type": "code",
   "execution_count": 74,
   "id": "081e54f3-d1b7-4278-ab34-ed6ed71125cc",
   "metadata": {},
   "outputs": [],
   "source": [
    "similarity=(dot_prod)/(query_magnitude*document_magnitude)\n"
   ]
  },
  {
   "cell_type": "code",
   "execution_count": 76,
   "id": "ddd4b19b-32e0-4446-91fd-824ea3085111",
   "metadata": {},
   "outputs": [
    {
     "data": {
      "text/plain": [
       "0.17407765595569785"
      ]
     },
     "execution_count": 76,
     "metadata": {},
     "output_type": "execute_result"
    }
   ],
   "source": [
    "similarity\n"
   ]
  },
  {
   "cell_type": "code",
   "execution_count": 78,
   "id": "f94125a7-d789-471a-a126-8d5c79027b4e",
   "metadata": {},
   "outputs": [],
   "source": [
    "user_query=\"is yoga good for health\"\n",
    "document=\"yoga is very good for living healthy lifesytle.\""
   ]
  },
  {
   "cell_type": "code",
   "execution_count": 93,
   "id": "e9564e2f-5d7a-4a21-97a4-b365539cc26b",
   "metadata": {},
   "outputs": [],
   "source": [
    "def cosine_similarity(query, document):\n",
    "    # Tokenize and convert to lowercase\n",
    "    query_tokens = query.lower().split(\" \")\n",
    "    document_tokens = document.lower().split(\" \")\n",
    "\n",
    "    # Create Counters for query and document\n",
    "    query_counter = Counter(query_tokens)\n",
    "    document_counter = Counter(document_tokens)\n",
    "\n",
    "    # Calculate dot product\n",
    "    dot_product = sum(query_counter[token] * document_counter[token] for token in query_counter.keys() & document_counter.keys())\n",
    "\n",
    "    # Calculate magnitudes\n",
    "    query_magnitude = math.sqrt(sum(query_counter[token] ** 2 for token in query_counter))\n",
    "    document_magnitude = math.sqrt(sum(document_counter[token] ** 2 for token in document_counter))\n",
    "\n",
    "    # Calculate cosine similarity\n",
    "    similarity = dot_product / (query_magnitude * document_magnitude) if query_magnitude * document_magnitude != 0 else 0\n",
    "\n",
    "    return similarity"
   ]
  },
  {
   "cell_type": "code",
   "execution_count": 95,
   "id": "359ec897-b220-4617-b18d-0d4ec4854157",
   "metadata": {},
   "outputs": [
    {
     "data": {
      "text/plain": [
       "0.6324555320336759"
      ]
     },
     "execution_count": 95,
     "metadata": {},
     "output_type": "execute_result"
    }
   ],
   "source": [
    "cosine_similarity(user_query,document)\n"
   ]
  },
  {
   "cell_type": "code",
   "execution_count": 115,
   "id": "05aaa66a-d69f-4895-980a-d53182e5237a",
   "metadata": {},
   "outputs": [],
   "source": [
    "def return_response(query, corpus):\n",
    "    similarities = []\n",
    "    for doc in corpus:\n",
    "        similarity = cosine_similarity(query, doc)\n",
    "        similarities.append(similarity)\n",
    "    return corpus_of_documents[similarities.index(max(similarities))]"
   ]
  },
  {
   "cell_type": "code",
   "execution_count": 117,
   "id": "595a3714-9291-4db1-bcdb-dea460506e67",
   "metadata": {},
   "outputs": [
    {
     "data": {
      "text/plain": [
       "['Take a leisurely walk in the park and enjoy the fresh air.',\n",
       " 'Visit a local museum and discover something new.',\n",
       " 'Attend a live music concert and feel the rhythm.',\n",
       " 'Go for a hike and admire the natural scenery.',\n",
       " 'Have a picnic with friends and share some laughs.',\n",
       " 'Explore a new cuisine by dining at an ethnic restaurant.',\n",
       " 'Take a yoga class and stretch your body and mind.',\n",
       " 'Join a local sports league and enjoy some friendly competition.',\n",
       " \"Attend a workshop or lecture on a topic you're interested in.\",\n",
       " 'Visit an amusement park and ride the roller coasters.']"
      ]
     },
     "execution_count": 117,
     "metadata": {},
     "output_type": "execute_result"
    }
   ],
   "source": [
    "corpus_of_documents\n"
   ]
  },
  {
   "cell_type": "code",
   "execution_count": 143,
   "id": "e4f4ed16-1289-49ec-8cd3-ea7ff1f4b677",
   "metadata": {},
   "outputs": [],
   "source": [
    "user_input=\"natural\"\n"
   ]
  },
  {
   "cell_type": "code",
   "execution_count": 145,
   "id": "8f37f64c-9d0c-459e-915f-606b681a97b3",
   "metadata": {},
   "outputs": [],
   "source": [
    "relevant_document=return_response(user_input,corpus_of_documents)\n"
   ]
  },
  {
   "cell_type": "code",
   "execution_count": 147,
   "id": "4b15755d-66d3-41b9-870e-6b938341a393",
   "metadata": {},
   "outputs": [
    {
     "data": {
      "text/plain": [
       "'Go for a hike and admire the natural scenery.'"
      ]
     },
     "execution_count": 147,
     "metadata": {},
     "output_type": "execute_result"
    }
   ],
   "source": [
    "relevant_document\n"
   ]
  },
  {
   "cell_type": "code",
   "execution_count": 149,
   "id": "c5502145-049d-4a0f-9e80-d4d48f54a00a",
   "metadata": {},
   "outputs": [],
   "source": [
    "# how you can configure llm in your local system\n",
    "# LLAMA2\n",
    "#hugging face(we are not going to use this one)\n",
    "# augument this response by using llama2 model\n",
    "\n",
    "## To run Ollama in our local system used ollama run llama2 in (comandprompt)"
   ]
  },
  {
   "cell_type": "code",
   "execution_count": null,
   "id": "87827d64-a048-4308-a64d-76c71c822e79",
   "metadata": {},
   "outputs": [],
   "source": [
    "import requests\n",
    "import json\n",
    "full_response = []"
   ]
  },
  {
   "cell_type": "code",
   "execution_count": null,
   "id": "22126b03-4fc2-426b-86b9-bafc3000d8cb",
   "metadata": {},
   "outputs": [],
   "source": [
    "full_response = []\n",
    "prompt = \"\"\"\n",
    "You are a bot that makes recommendations for activities. You answer in very short sentences and do not include extra information.\n",
    "This is the recommended activity: {relevant_document}\n",
    "The user input is: {user_input}\n",
    "Compile a recommendation to the user based on the recommended activity and the user input.\n",
    "\"\"\"\n",
    "\n",
    "url = 'http://localhost:11434/api/generate'\n",
    "\n",
    "\n",
    "data = {\n",
    "    \"model\": \"llama2\",\n",
    "    \"prompt\": prompt.format(user_input=user_input, relevant_document=relevant_document)\n",
    "}\n",
    "\n",
    "headers = {'Content-Type': 'application/json'}\n",
    "\n",
    "response = requests.post(url, data=json.dumps(data), headers=headers, stream=True)\n",
    "\n",
    "\n",
    "try:\n",
    "    for line in response.iter_lines():\n",
    "        if line:\n",
    "            decoded_line = json.loads(line.decode('utf-8'))\n",
    "            # print(decoded_line['response'])  # uncomment to results, token by token\n",
    "            full_response.append(decoded_line['response'])\n",
    "finally:\n",
    "    response.close()\n",
    "    \n",
    "    \n",
    "print(''.join(full_response))"
   ]
  },
  {
   "cell_type": "code",
   "execution_count": null,
   "id": "c595e5e8-6b1a-4c31-8a87-19883aca12e5",
   "metadata": {},
   "outputs": [],
   "source": []
  }
 ],
 "metadata": {
  "kernelspec": {
   "display_name": "Python 3 (ipykernel)",
   "language": "python",
   "name": "python3"
  },
  "language_info": {
   "codemirror_mode": {
    "name": "ipython",
    "version": 3
   },
   "file_extension": ".py",
   "mimetype": "text/x-python",
   "name": "python",
   "nbconvert_exporter": "python",
   "pygments_lexer": "ipython3",
   "version": "3.12.4"
  }
 },
 "nbformat": 4,
 "nbformat_minor": 5
}
